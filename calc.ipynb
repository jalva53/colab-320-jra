{
  "nbformat": 4,
  "nbformat_minor": 0,
  "metadata": {
    "colab": {
      "provenance": [],
      "authorship_tag": "ABX9TyNxlahgfiV1Jj6Dd5aF5fVk",
      "include_colab_link": true
    },
    "kernelspec": {
      "name": "python3",
      "display_name": "Python 3"
    },
    "language_info": {
      "name": "python"
    }
  },
  "cells": [
    {
      "cell_type": "markdown",
      "metadata": {
        "id": "view-in-github",
        "colab_type": "text"
      },
      "source": [
        "<a href=\"https://colab.research.google.com/github/jalva53/colab-320-jra/blob/main/calc.ipynb\" target=\"_parent\"><img src=\"https://colab.research.google.com/assets/colab-badge.svg\" alt=\"Open In Colab\"/></a>"
      ]
    },
    {
      "cell_type": "code",
      "source": [
        "print('test')"
      ],
      "metadata": {
        "colab": {
          "base_uri": "https://localhost:8080/"
        },
        "id": "KImKGq27nzkp",
        "outputId": "b4f0cebf-5502-401f-ad33-e62f0fe333cc"
      },
      "execution_count": 4,
      "outputs": [
        {
          "output_type": "stream",
          "name": "stdout",
          "text": [
            "test 5\n"
          ]
        }
      ]
    },
    {
      "cell_type": "code",
      "source": [
        "while True:\n",
        "  operator = input('Enter math operator: ')\n",
        "\n",
        "  if operator == 'break':\n",
        "    break\n",
        "\n",
        "  num1 = float(input('Enter first number: '))\n",
        "  num2 = float(input('Enter second number: '))\n",
        "\n",
        "  if operator == \"+\":\n",
        "    print(f'{num1} + {num2} = {num1 + num2}')\n",
        "  elif operator == '-':\n",
        "    print(f'{num1} - {num2} = {num1 - num2}')\n",
        "  elif operator == '*':\n",
        "    print(f'{num1} * {num2} = {num1 * num2}')\n",
        "  elif operator == '**':\n",
        "    print(f'{num1} ** {num2} = {num1 ** num2}')\n",
        "  elif operator == '/':\n",
        "    print(f'{num1} / {num2} = {num1 / num2}')\n",
        "  elif operator == '//':\n",
        "    print(f'{num1} // {num2} = {num1 // num2}')\n",
        "  elif operator == '%':\n",
        "    print(f'{num1} % {num2} = {num1 % num2}')\n",
        "  else:\n",
        "    print('Invalid operator:', operator)"
      ],
      "metadata": {
        "colab": {
          "base_uri": "https://localhost:8080/"
        },
        "id": "t6hDzVgjuOGP",
        "outputId": "27011318-8025-4898-904a-10c7efa946a0"
      },
      "execution_count": null,
      "outputs": [
        {
          "output_type": "stream",
          "name": "stdout",
          "text": [
            "Enter math operator: and\n",
            "Enter first number: 7\n",
            "Enter second number: 4\n",
            "Invalid operator: and\n"
          ]
        }
      ]
    },
    {
      "cell_type": "markdown",
      "source": [
        "notes for calculator proj:\n",
        "\n",
        "implement +, -, *, /, //, **. %\n",
        "\n",
        "calculator once starts, cannot stop unless user chooses to (infinite loops)\n",
        "implement six numerical ops\n",
        "user has to provide numbers and desired operator: calc will then display result. use 3 separate calls to function input() for each one of the inputs\n",
        "\n",
        "numbers int or float\n",
        "ops str\n",
        "calc stops if break is typed instead of operator; skips iteration if user gives non-numerical numerator\n",
        "\n",
        "\n",
        "asks user for 3 inputs\n",
        "\n",
        "if operator is numerical operator, performs math\n",
        "\n",
        "if user types \"break\", process terminates\n",
        "\n",
        "if user types neither, invalid and program asks for inputs again\n",
        "\n",
        "\n",
        "hints:\n",
        "- while 3==3 (condition) for infinite loop\n",
        "-"
      ],
      "metadata": {
        "id": "MHQFWPp0mBqf"
      }
    }
  ]
}
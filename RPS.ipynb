{
  "nbformat": 4,
  "nbformat_minor": 0,
  "metadata": {
    "colab": {
      "provenance": [],
      "authorship_tag": "ABX9TyOide0WikpVkzismWz3bq7q",
      "include_colab_link": true
    },
    "kernelspec": {
      "name": "python3",
      "display_name": "Python 3"
    },
    "language_info": {
      "name": "python"
    }
  },
  "cells": [
    {
      "cell_type": "markdown",
      "metadata": {
        "id": "view-in-github",
        "colab_type": "text"
      },
      "source": [
        "<a href=\"https://colab.research.google.com/github/jalva53/colab-320-jra/blob/main/RPS.ipynb\" target=\"_parent\"><img src=\"https://colab.research.google.com/assets/colab-badge.svg\" alt=\"Open In Colab\"/></a>"
      ]
    },
    {
      "cell_type": "code",
      "execution_count": 19,
      "metadata": {
        "colab": {
          "base_uri": "https://localhost:8080/"
        },
        "id": "HPZZqYGKGsTs",
        "outputId": "e82b7920-c93d-48f0-9d92-7a2a032fbd71"
      },
      "outputs": [
        {
          "output_type": "stream",
          "name": "stdout",
          "text": [
            "Rock, Paper, Scissors\n",
            "Enter your name: p\n",
            "p, Enter your choice: rock\n",
            "Computer chooses: paper\n",
            "Computer wins! :(\n"
          ]
        }
      ],
      "source": [
        "import random\n",
        "\n",
        "print('Rock, Paper, Scissors')\n",
        "name = input (\"Enter your name: \")\n",
        "user_choice = input(f\"{name}, Enter your choice: \")\n",
        "\n",
        "computer_choice = random.choice(['rock','paper','scissors'])\n",
        "\n",
        "print(f\"Computer chooses: {computer_choice}\")\n",
        "\n",
        "if user_choice == computer_choice:\n",
        "  print(\"Tie!\")\n",
        "elif (user_choice == 'rock' and computer_choice == 'scissors' ) or \\\n",
        "     (user_choice == 'paper' and computer_choice == 'rock') or \\\n",
        "     (user_choice == 'scissors' and computer_choice == 'paper'):\n",
        "    print(f'{name} wins!')\n",
        "else:\n",
        "  print('Computer wins! :(')"
      ]
    },
    {
      "cell_type": "markdown",
      "source": [
        "ask if he wants code for an invalid choice"
      ],
      "metadata": {
        "id": "L3cM4Y1AJU3u"
      }
    }
  ]
}
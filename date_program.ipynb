{
  "nbformat": 4,
  "nbformat_minor": 0,
  "metadata": {
    "colab": {
      "provenance": [],
      "authorship_tag": "ABX9TyP8diAeF+AH7Yl8EQ6SeY60",
      "include_colab_link": true
    },
    "kernelspec": {
      "name": "python3",
      "display_name": "Python 3"
    },
    "language_info": {
      "name": "python"
    }
  },
  "cells": [
    {
      "cell_type": "markdown",
      "metadata": {
        "id": "view-in-github",
        "colab_type": "text"
      },
      "source": [
        "<a href=\"https://colab.research.google.com/github/jalva53/colab-320-jra/blob/main/date_program.ipynb\" target=\"_parent\"><img src=\"https://colab.research.google.com/assets/colab-badge.svg\" alt=\"Open In Colab\"/></a>"
      ]
    },
    {
      "cell_type": "code",
      "execution_count": 2,
      "metadata": {
        "colab": {
          "base_uri": "https://localhost:8080/"
        },
        "id": "3qdkIFQ_xcB2",
        "outputId": "f68990f5-5c9c-4052-a76b-dc7a1f4a1ad1"
      },
      "outputs": [
        {
          "output_type": "stream",
          "name": "stdout",
          "text": [
            "enter the date: 02/22/25\n",
            "02 22 25\n"
          ]
        }
      ],
      "source": [
        "date = input (\"enter the date: \")\n",
        "month = date [0:2]\n",
        "day = date [3:5]\n",
        "year = date [6:]\n",
        "print (month,day,year)"
      ]
    }
  ]
}